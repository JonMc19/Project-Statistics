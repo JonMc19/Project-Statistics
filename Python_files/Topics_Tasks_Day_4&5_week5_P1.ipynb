{
 "cells": [
  {
   "cell_type": "code",
   "execution_count": 8,
   "metadata": {},
   "outputs": [],
   "source": [
    "import pandas as pd\n",
    "import matplotlib.pyplot as plt\n",
    "import numpy as np\n",
    "from scipy.stats import ttest_ind\n",
    "import numpy as np\n",
    "from statsmodels.stats.proportion import proportions_ztest"
   ]
  },
  {
   "cell_type": "markdown",
   "metadata": {},
   "source": [
    "Hypothesis Testing\n",
    "As part of your analysis, you'll conduct hypothesis testing to make data-driven conclusions about the effectiveness of the redesign. See the full details below:\n",
    "\n",
    "1) COMPLETION RATE\n",
    "2) COMPLETION RATE WITH A COST-EFFECTIVENESS THRESHOLD\n",
    "3) OTHER HYPOTHESIS EXAMPLES"
   ]
  },
  {
   "cell_type": "code",
   "execution_count": 11,
   "metadata": {},
   "outputs": [],
   "source": [
    "# Load your CSV or paste raw data\n",
    "df = pd.read_csv(\"/Users/jon/Desktop/Ironhack/Unit 4 - Statistics & Probability/Project-Statistics/Databases/cleaned/df_cleaned_merged_web_data_pt.txt\", parse_dates=[\"date_time\"])\n",
    "variation_df = pd.read_csv(\"/Users/jon/Desktop/Ironhack/Unit 4 - Statistics & Probability/Project-Statistics/Databases/cleaned/df_cleaned_experiment_clients_data.txt\")\n",
    "demographics_df = pd.read_csv(\"/Users/jon/Desktop/Ironhack/Unit 4 - Statistics & Probability/Project-Statistics/Databases/cleaned/df_final_demo_cleaned.txt\")"
   ]
  },
  {
   "cell_type": "markdown",
   "metadata": {},
   "source": [
    "1) COMPLETION RATE"
   ]
  },
  {
   "cell_type": "code",
   "execution_count": 7,
   "metadata": {},
   "outputs": [
    {
     "name": "stdout",
     "output_type": "stream",
     "text": [
      "\n",
      "Funnel Conversion for Variation: Control\n",
      "\n",
      "             Variation  num_visits  conversion_rate  step_conversion\n",
      "process_step                                                        \n",
      "start          Control       30741       100.000000              NaN\n",
      "step_1         Control       23394        76.100322        76.100322\n",
      "step_2         Control       19997        65.049933        85.479183\n",
      "step_3         Control       18165        59.090466        90.838626\n",
      "confirm        Control       15912        51.761491        87.597027\n",
      "\n",
      "Funnel Conversion for Variation: Test\n",
      "\n",
      "             Variation  num_visits  conversion_rate  step_conversion\n",
      "process_step                                                        \n",
      "start             Test       33017       100.000000              NaN\n",
      "step_1            Test       28148        85.253051        85.253051\n",
      "step_2            Test       24378        73.834691        86.606508\n",
      "step_3            Test       22069        66.841324        90.528345\n",
      "confirm           Test       21608        65.445074        97.911097\n"
     ]
    },
    {
     "name": "stderr",
     "output_type": "stream",
     "text": [
      "/var/folders/_2/ksgd3nl52j9g0sxwpjjd1bgh0000gn/T/ipykernel_8200/4200738623.py:30: DeprecationWarning: DataFrameGroupBy.apply operated on the grouping columns. This behavior is deprecated, and in a future version of pandas the grouping columns will be excluded from the operation. Either pass `include_groups=False` to exclude the groupings or explicitly select the grouping columns after groupby to silence this warning.\n",
      "  result = funnel_per_variation.groupby(\"Variation\").apply(compute_funnel_metrics)\n"
     ]
    }
   ],
   "source": [
    "# Step 0: Merge variation info into df by client_id\n",
    "df = df.merge(variation_df, on=\"client_id\", how=\"left\")\n",
    "\n",
    "# Sort actions chronologically per visit\n",
    "df = df.sort_values(by=[\"visit_id\", \"date_time\"])\n",
    "\n",
    "# Remove duplicate steps per visit (to avoid loops/skips being counted multiple times)\n",
    "df_unique_steps = df.drop_duplicates(subset=[\"visit_id\", \"process_step\"])\n",
    "\n",
    "# Define the correct step order for the funnel\n",
    "step_order = [\"start\", \"step_1\", \"step_2\", \"step_3\", \"confirm\"]\n",
    "\n",
    "# Calculate funnel conversions per Variation group\n",
    "funnel_per_variation = (\n",
    "    df_unique_steps.groupby([\"Variation\", \"process_step\"])[\"visit_id\"]\n",
    "    .nunique()\n",
    "    .reindex(step_order, level=1, fill_value=0)  # reindex steps per variation\n",
    "    .reset_index()\n",
    ")\n",
    "\n",
    "# Calculate funnel metrics per group\n",
    "def compute_funnel_metrics(df_group):\n",
    "    df_group = df_group.set_index(\"process_step\").reindex(step_order, fill_value=0)\n",
    "    df_group = df_group.rename(columns={\"visit_id\": \"num_visits\"})\n",
    "    df_group[\"conversion_rate\"] = df_group[\"num_visits\"] / df_group[\"num_visits\"].iloc[0] * 100  # from start\n",
    "    df_group[\"step_conversion\"] = df_group[\"num_visits\"] / df_group[\"num_visits\"].shift(1) * 100\n",
    "    return df_group\n",
    "\n",
    "# Apply for each variation\n",
    "result = funnel_per_variation.groupby(\"Variation\").apply(compute_funnel_metrics)\n",
    "\n",
    "# Display results\n",
    "for variation in result.index.levels[0]:\n",
    "    print(f\"\\nFunnel Conversion for Variation: {variation}\\n\")\n",
    "    print(result.loc[variation])"
   ]
  },
  {
   "cell_type": "code",
   "execution_count": 9,
   "metadata": {},
   "outputs": [
    {
     "name": "stdout",
     "output_type": "stream",
     "text": [
      "Total Control visits: 30741\n",
      "Total Test visits: 33017\n",
      "\n",
      "Step-wise significance test (two-proportion z-test):\n",
      "\n",
      "start    | Test: 33017/33017 | Control: 30741/30741 | p-value = nan => No significant difference\n",
      "step_1   | Test: 28148/33017 | Control: 23394/30741 | p-value = 0.0000 => Significant difference\n",
      "step_2   | Test: 24378/33017 | Control: 19997/30741 | p-value = 0.0000 => Significant difference\n",
      "step_3   | Test: 22069/33017 | Control: 18165/30741 | p-value = 0.0000 => Significant difference\n",
      "confirm  | Test: 21608/33017 | Control: 15912/30741 | p-value = 0.0000 => Significant difference\n"
     ]
    },
    {
     "name": "stderr",
     "output_type": "stream",
     "text": [
      "/Library/Frameworks/Python.framework/Versions/3.12/lib/python3.12/site-packages/statsmodels/stats/weightstats.py:792: RuntimeWarning: invalid value encountered in scalar divide\n",
      "  zstat = value / std\n"
     ]
    }
   ],
   "source": [
    "pivot = funnel_per_variation.pivot(index='process_step', columns='Variation', values='visit_id').fillna(0)\n",
    "\n",
    "# Total visits per group (at start step)\n",
    "total_control = pivot.loc['start', 'Control']\n",
    "total_test = pivot.loc['start', 'Test']\n",
    "\n",
    "print(f\"Total Control visits: {total_control}\")\n",
    "print(f\"Total Test visits: {total_test}\\n\")\n",
    "\n",
    "print(\"Step-wise significance test (two-proportion z-test):\\n\")\n",
    "\n",
    "for step in step_order:\n",
    "    control_success = pivot.loc[step, 'Control']\n",
    "    test_success = pivot.loc[step, 'Test']\n",
    "\n",
    "    successes = np.array([test_success, control_success])\n",
    "    trials = np.array([total_test, total_control])\n",
    "\n",
    "    stat, pval = proportions_ztest(successes, trials)\n",
    "    print(f\"{step:8} | Test: {test_success}/{total_test} | Control: {control_success}/{total_control} | p-value = {pval:.4f} \", end=\"\")\n",
    "\n",
    "    if pval < 0.05:\n",
    "        print(\"=> Significant difference\")\n",
    "    else:\n",
    "        print(\"=> No significant difference\")"
   ]
  },
  {
   "cell_type": "markdown",
   "metadata": {},
   "source": [
    "THE TEST GROUP HAS A SIGNIFICANTLY HIGHGER CONVERSION RATIOS FOR EACH STEP"
   ]
  },
  {
   "cell_type": "markdown",
   "metadata": {},
   "source": [
    "2) COMPLETION RATE WITH A COST EFFECTIVENESS THRESHOLD"
   ]
  },
  {
   "cell_type": "code",
   "execution_count": 10,
   "metadata": {},
   "outputs": [
    {
     "name": "stdout",
     "output_type": "stream",
     "text": [
      "Control completion rate: 51.76%\n",
      "Test completion rate: 65.45%\n",
      "Lift in completion rate: 13.68%\n",
      "✅ The lift meets or exceeds the cost-effectiveness threshold of 5.0%.\n"
     ]
    }
   ],
   "source": [
    "# Completion rates at 'confirm' step from your pivot table\n",
    "completion_control = pivot.loc['confirm', 'Control'] / total_control * 100\n",
    "completion_test = pivot.loc['confirm', 'Test'] / total_test * 100\n",
    "\n",
    "# Calculate the lift\n",
    "completion_lift = completion_test - completion_control\n",
    "\n",
    "# Check threshold\n",
    "threshold = 5.0  # minimum % increase required\n",
    "\n",
    "print(f\"Control completion rate: {completion_control:.2f}%\")\n",
    "print(f\"Test completion rate: {completion_test:.2f}%\")\n",
    "print(f\"Lift in completion rate: {completion_lift:.2f}%\")\n",
    "\n",
    "if completion_lift >= threshold:\n",
    "    print(f\"✅ The lift meets or exceeds the cost-effectiveness threshold of {threshold}%.\")\n",
    "else:\n",
    "    print(f\"⚠️ The lift is below the cost-effectiveness threshold of {threshold}%.\")"
   ]
  },
  {
   "cell_type": "markdown",
   "metadata": {},
   "source": [
    "3) OTHER HYPOTHESIS: GENDER DIFERENCES IN COMPLETION RATES"
   ]
  },
  {
   "cell_type": "code",
   "execution_count": 14,
   "metadata": {},
   "outputs": [
    {
     "name": "stdout",
     "output_type": "stream",
     "text": [
      "Conversion rates by step and gender:\n",
      "\n",
      "start: Male = 100.00%, Female = 100.00%\n",
      "step_1: Male = 80.62%, Female = 80.30%\n",
      "step_2: Male = 68.85%, Female = 67.99%\n",
      "step_3: Male = 62.38%, Female = 62.25%\n",
      "confirm: Male = 60.14%, Female = 57.22%\n",
      "\n",
      "Statistical significance tests (two-proportion z-test):\n",
      "\n",
      "start: Male 30440/30440 vs Female 29024/29024 | p-value = nan -> No significant difference\n",
      "step_1: Male 24542/30440 vs Female 23306/29024 | p-value = 0.3175 -> No significant difference\n",
      "step_2: Male 20959/30440 vs Female 19732/29024 | p-value = 0.0228 -> Significant difference\n",
      "step_3: Male 18989/30440 vs Female 18068/29024 | p-value = 0.7440 -> No significant difference\n",
      "confirm: Male 18306/30440 vs Female 16608/29024 | p-value = 0.0000 -> Significant difference\n"
     ]
    },
    {
     "name": "stderr",
     "output_type": "stream",
     "text": [
      "/Library/Frameworks/Python.framework/Versions/3.12/lib/python3.12/site-packages/statsmodels/stats/weightstats.py:792: RuntimeWarning: invalid value encountered in scalar divide\n",
      "  zstat = value / std\n"
     ]
    }
   ],
   "source": [
    "# Assume your funnel step data with client_id is in `df`\n",
    "# And demographics_df contains client_id and gender\n",
    "\n",
    "# Merge funnel data with demographics to get gender per visit\n",
    "df_merged = df.merge(demographics_df[['client_id', 'gender']], on='client_id')\n",
    "\n",
    "# Remove duplicate steps per visit to avoid counting loops multiple times\n",
    "df_unique_steps = df_merged.drop_duplicates(subset=['visit_id', 'process_step'])\n",
    "\n",
    "# Define funnel steps order\n",
    "step_order = [\"start\", \"step_1\", \"step_2\", \"step_3\", \"confirm\"]\n",
    "\n",
    "results = []\n",
    "\n",
    "# Calculate counts and conversion rates by gender and step\n",
    "for step in step_order:\n",
    "    step_data = df_unique_steps[df_unique_steps['process_step'] == step]\n",
    "    \n",
    "    counts = step_data.groupby('gender')['visit_id'].nunique()\n",
    "    total_starts = df_unique_steps[df_unique_steps['process_step'] == 'start'].groupby('gender')['visit_id'].nunique()\n",
    "    \n",
    "    for gender in ['M', 'F']:\n",
    "        step_count = counts.get(gender, 0)\n",
    "        start_count = total_starts.get(gender, 0)\n",
    "        conversion_rate = step_count / start_count if start_count > 0 else 0\n",
    "        \n",
    "        results.append({\n",
    "            'step': step,\n",
    "            'gender': gender,\n",
    "            'step_count': step_count,\n",
    "            'start_count': start_count,\n",
    "            'conversion_rate': conversion_rate\n",
    "        })\n",
    "\n",
    "results_df = pd.DataFrame(results)\n",
    "\n",
    "# Print conversion rates by gender\n",
    "print(\"Conversion rates by step and gender:\\n\")\n",
    "for step in step_order:\n",
    "    data_step = results_df[results_df['step'] == step]\n",
    "    male_rate = data_step[data_step['gender'] == 'M']['conversion_rate'].values[0] * 100\n",
    "    female_rate = data_step[data_step['gender'] == 'F']['conversion_rate'].values[0] * 100\n",
    "    print(f\"{step}: Male = {male_rate:.2f}%, Female = {female_rate:.2f}%\")\n",
    "\n",
    "print(\"\\nStatistical significance tests (two-proportion z-test):\\n\")\n",
    "\n",
    "# Run two-proportion z-test for each step\n",
    "for step in step_order:\n",
    "    data_step = results_df[results_df['step'] == step]\n",
    "    successes = data_step['step_count'].values\n",
    "    trials = data_step['start_count'].values\n",
    "    \n",
    "    stat, pval = proportions_ztest(successes, trials)\n",
    "    \n",
    "    male_count, female_count = successes\n",
    "    male_total, female_total = trials\n",
    "    \n",
    "    print(f\"{step}: Male {male_count}/{male_total} vs Female {female_count}/{female_total} | p-value = {pval:.4f} -> \", end='')\n",
    "    \n",
    "    if pval < 0.05:\n",
    "        print(\"Significant difference\")\n",
    "    else:\n",
    "        print(\"No significant difference\")"
   ]
  }
 ],
 "metadata": {
  "kernelspec": {
   "display_name": "Python 3",
   "language": "python",
   "name": "python3"
  },
  "language_info": {
   "codemirror_mode": {
    "name": "ipython",
    "version": 3
   },
   "file_extension": ".py",
   "mimetype": "text/x-python",
   "name": "python",
   "nbconvert_exporter": "python",
   "pygments_lexer": "ipython3",
   "version": "3.12.9"
  }
 },
 "nbformat": 4,
 "nbformat_minor": 2
}
