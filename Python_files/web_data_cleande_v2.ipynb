{
 "cells": [
  {
   "cell_type": "code",
   "execution_count": 2,
   "metadata": {},
   "outputs": [],
   "source": [
    "import pandas as pd"
   ]
  },
  {
   "cell_type": "code",
   "execution_count": 3,
   "metadata": {},
   "outputs": [],
   "source": [
    "# Load your CSV or paste raw data\n",
    "df = pd.read_csv(\"/Users/jon/Desktop/Ironhack/Unit 4 - Statistics & Probability/Project-Statistics/Databases/cleaned/df_cleaned_merged_web_data_pt.txt\", parse_dates=[\"date_time\"])"
   ]
  },
  {
   "cell_type": "code",
   "execution_count": 18,
   "metadata": {},
   "outputs": [],
   "source": [
    "# Ordenar por visita y timestamp\n",
    "df = df.sort_values(by=[\"visit_id\", \"date_time\"]).reset_index(drop=True)\n",
    "\n",
    "# Crear columna con la siguiente fecha dentro de cada visita\n",
    "df[\"next_time\"] = df.groupby(\"visit_id\")[\"date_time\"].shift(-1)\n",
    "\n",
    "# Calcular el tiempo pasado en cada paso (en segundos)\n",
    "df[\"time_spent\"] = (df[\"next_time\"] - df[\"date_time\"]).dt.total_seconds()\n",
    "\n",
    "# Eliminar pasos donde no se puede calcular el tiempo (último de cada visita)\n",
    "df_steps_time = df.dropna(subset=[\"time_spent\"]).copy()\n",
    "\n",
    "#Eliminar process_step con valor \"confirm\"\n",
    "\n",
    "df_steps_time_final = df_steps_time.loc[df_steps_time[\"process_step\"] != \"confirm\"].copy()\n",
    "\n"
   ]
  },
  {
   "cell_type": "code",
   "execution_count": null,
   "metadata": {},
   "outputs": [],
   "source": [
    "df_steps_time_final.iloc[:30]"
   ]
  },
  {
   "cell_type": "code",
   "execution_count": null,
   "metadata": {},
   "outputs": [],
   "source": [
    "# Convert to txt file\n",
    "\n",
    "#df_steps_time_final.to_csv(\"/Users/jon/Desktop/Ironhack/Unit 4 - Statistics & Probability/Project-Statistics/Databases/cleaned/df_cleaned_web_data_vfinal.txt\", index=False)\n"
   ]
  },
  {
   "cell_type": "code",
   "execution_count": null,
   "metadata": {},
   "outputs": [],
   "source": []
  }
 ],
 "metadata": {
  "kernelspec": {
   "display_name": "Python 3",
   "language": "python",
   "name": "python3"
  },
  "language_info": {
   "codemirror_mode": {
    "name": "ipython",
    "version": 3
   },
   "file_extension": ".py",
   "mimetype": "text/x-python",
   "name": "python",
   "nbconvert_exporter": "python",
   "pygments_lexer": "ipython3",
   "version": "3.12.9"
  }
 },
 "nbformat": 4,
 "nbformat_minor": 2
}
