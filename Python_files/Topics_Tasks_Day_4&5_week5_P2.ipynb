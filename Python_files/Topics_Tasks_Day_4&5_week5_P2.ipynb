{
 "cells": [
  {
   "cell_type": "code",
   "execution_count": 1,
   "metadata": {},
   "outputs": [],
   "source": [
    "import pandas as pd"
   ]
  },
  {
   "cell_type": "code",
   "execution_count": 25,
   "metadata": {},
   "outputs": [],
   "source": [
    "# Load your CSV or paste raw data\n",
    "df = pd.read_csv(\"/Users/jon/Desktop/Ironhack/Unit 4 - Statistics & Probability/Project-Statistics/Databases/cleaned/df_cleaned_merged_web_data_pt.txt\", parse_dates=[\"date_time\"])\n",
    "variation_df = pd.read_csv(\"/Users/jon/Desktop/Ironhack/Unit 4 - Statistics & Probability/Project-Statistics/Databases/cleaned/df_cleaned_experiment_clients_data.txt\")\n",
    "demographics_df = pd.read_csv(\"/Users/jon/Desktop/Ironhack/Unit 4 - Statistics & Probability/Project-Statistics/Databases/cleaned/df_final_demo_cleaned.txt\")"
   ]
  },
  {
   "cell_type": "markdown",
   "metadata": {},
   "source": [
    "Experiment Evaluation\n",
    "You are also required to carry out an evaluation of the experiment by answering questions about the design effectiveness, duration and any additional data needs. See the full details below:\n",
    "\n",
    "1) Design Effectiveness\n",
    "-Was the experiment well-structured?\n",
    "-Were clients randomly and equally divided between the old and new designs?\n",
    "-Were there any biases?\n",
    "2) Duration Assessment\n",
    "-Was the timeframe of the experiment (from 3/15/2017 to 6/20/2017) adequate to gather meaningful data and insights?\n",
    "3) Additional Data Needs\n",
    "-What other data, if available, could enhance the analysis?\n",
    "\n"
   ]
  },
  {
   "cell_type": "markdown",
   "metadata": {},
   "source": [
    "1) DESIGN EFFECTIVENESS"
   ]
  },
  {
   "cell_type": "code",
   "execution_count": 38,
   "metadata": {},
   "outputs": [],
   "source": [
    "demographics_variation_merged_df = demographics_df.merge(variation_df, on=\"client_id\", how=\"left\")"
   ]
  },
  {
   "cell_type": "code",
   "execution_count": 40,
   "metadata": {},
   "outputs": [],
   "source": [
    "#Drop Nan values\n",
    "\n",
    "demographics_variation_merged_clean_df=demographics_variation_merged_df.dropna()\n"
   ]
  },
  {
   "cell_type": "markdown",
   "metadata": {},
   "source": [
    "DISTRIBUTION IN EACH VARIATION GROUP"
   ]
  },
  {
   "cell_type": "code",
   "execution_count": 32,
   "metadata": {},
   "outputs": [
    {
     "data": {
      "text/plain": [
       "Variation\n",
       "Test       53.28\n",
       "Control    46.72\n",
       "Name: proportion, dtype: float64"
      ]
     },
     "execution_count": 32,
     "metadata": {},
     "output_type": "execute_result"
    }
   ],
   "source": [
    "# Calculate the % of each variation in the demographics data\n",
    "\n",
    "variation_counts = round(demographics_variation_merged_clean_df['Variation'].value_counts(normalize=True) * 100,2)\n",
    "variation_counts"
   ]
  },
  {
   "cell_type": "markdown",
   "metadata": {},
   "source": [
    "DISTRIBUTION BY GENDER"
   ]
  },
  {
   "cell_type": "code",
   "execution_count": 43,
   "metadata": {},
   "outputs": [
    {
     "name": "stdout",
     "output_type": "stream",
     "text": [
      "Gender distribution:\n",
      "gender\n",
      "M    51.04\n",
      "F    48.96\n",
      "Name: proportion, dtype: float64\n"
     ]
    }
   ],
   "source": [
    "# Calculate gender distribution\n",
    "gender_distribution = demographics_variation_merged_clean_df['gender'].value_counts(normalize=True) * 100\n",
    "print(\"Gender distribution:\")\n",
    "print(gender_distribution.round(2))\n"
   ]
  },
  {
   "cell_type": "markdown",
   "metadata": {},
   "source": [
    "DISTRIBUTION BY GENDER"
   ]
  },
  {
   "cell_type": "code",
   "execution_count": 46,
   "metadata": {},
   "outputs": [
    {
     "data": {
      "text/html": [
       "<div>\n",
       "<style scoped>\n",
       "    .dataframe tbody tr th:only-of-type {\n",
       "        vertical-align: middle;\n",
       "    }\n",
       "\n",
       "    .dataframe tbody tr th {\n",
       "        vertical-align: top;\n",
       "    }\n",
       "\n",
       "    .dataframe thead th {\n",
       "        text-align: right;\n",
       "    }\n",
       "</style>\n",
       "<table border=\"1\" class=\"dataframe\">\n",
       "  <thead>\n",
       "    <tr style=\"text-align: right;\">\n",
       "      <th></th>\n",
       "      <th>client_id</th>\n",
       "      <th>client_tenure_year</th>\n",
       "      <th>client_tenure_month</th>\n",
       "      <th>client_age</th>\n",
       "      <th>gender</th>\n",
       "      <th>number_of_accounts_</th>\n",
       "      <th>balance</th>\n",
       "      <th>calls_past_6_months</th>\n",
       "      <th>logins_last_6_months</th>\n",
       "      <th>Variation</th>\n",
       "    </tr>\n",
       "  </thead>\n",
       "  <tbody>\n",
       "    <tr>\n",
       "      <th>0</th>\n",
       "      <td>1562045</td>\n",
       "      <td>16.0</td>\n",
       "      <td>198.0</td>\n",
       "      <td>49.0</td>\n",
       "      <td>M</td>\n",
       "      <td>2.0</td>\n",
       "      <td>67454.65</td>\n",
       "      <td>3.0</td>\n",
       "      <td>6.0</td>\n",
       "      <td>Test</td>\n",
       "    </tr>\n",
       "    <tr>\n",
       "      <th>1</th>\n",
       "      <td>5126305</td>\n",
       "      <td>12.0</td>\n",
       "      <td>145.0</td>\n",
       "      <td>33.0</td>\n",
       "      <td>F</td>\n",
       "      <td>2.0</td>\n",
       "      <td>103671.75</td>\n",
       "      <td>0.0</td>\n",
       "      <td>3.0</td>\n",
       "      <td>Control</td>\n",
       "    </tr>\n",
       "    <tr>\n",
       "      <th>2</th>\n",
       "      <td>388801</td>\n",
       "      <td>30.0</td>\n",
       "      <td>361.0</td>\n",
       "      <td>57.5</td>\n",
       "      <td>M</td>\n",
       "      <td>5.0</td>\n",
       "      <td>522498.72</td>\n",
       "      <td>1.0</td>\n",
       "      <td>4.0</td>\n",
       "      <td>Test</td>\n",
       "    </tr>\n",
       "    <tr>\n",
       "      <th>3</th>\n",
       "      <td>285619</td>\n",
       "      <td>30.0</td>\n",
       "      <td>369.0</td>\n",
       "      <td>67.5</td>\n",
       "      <td>M</td>\n",
       "      <td>2.0</td>\n",
       "      <td>299388.72</td>\n",
       "      <td>3.0</td>\n",
       "      <td>6.0</td>\n",
       "      <td>Control</td>\n",
       "    </tr>\n",
       "    <tr>\n",
       "      <th>4</th>\n",
       "      <td>8198645</td>\n",
       "      <td>15.0</td>\n",
       "      <td>189.0</td>\n",
       "      <td>54.5</td>\n",
       "      <td>F</td>\n",
       "      <td>2.0</td>\n",
       "      <td>382303.83</td>\n",
       "      <td>6.0</td>\n",
       "      <td>9.0</td>\n",
       "      <td>Test</td>\n",
       "    </tr>\n",
       "    <tr>\n",
       "      <th>...</th>\n",
       "      <td>...</td>\n",
       "      <td>...</td>\n",
       "      <td>...</td>\n",
       "      <td>...</td>\n",
       "      <td>...</td>\n",
       "      <td>...</td>\n",
       "      <td>...</td>\n",
       "      <td>...</td>\n",
       "      <td>...</td>\n",
       "      <td>...</td>\n",
       "    </tr>\n",
       "    <tr>\n",
       "      <th>33200</th>\n",
       "      <td>1780858</td>\n",
       "      <td>21.0</td>\n",
       "      <td>262.0</td>\n",
       "      <td>68.5</td>\n",
       "      <td>M</td>\n",
       "      <td>3.0</td>\n",
       "      <td>372100.59</td>\n",
       "      <td>6.0</td>\n",
       "      <td>9.0</td>\n",
       "      <td>Test</td>\n",
       "    </tr>\n",
       "    <tr>\n",
       "      <th>33201</th>\n",
       "      <td>6967120</td>\n",
       "      <td>21.0</td>\n",
       "      <td>260.0</td>\n",
       "      <td>68.5</td>\n",
       "      <td>M</td>\n",
       "      <td>3.0</td>\n",
       "      <td>4279873.38</td>\n",
       "      <td>6.0</td>\n",
       "      <td>9.0</td>\n",
       "      <td>Control</td>\n",
       "    </tr>\n",
       "    <tr>\n",
       "      <th>33202</th>\n",
       "      <td>5826160</td>\n",
       "      <td>20.0</td>\n",
       "      <td>249.0</td>\n",
       "      <td>56.5</td>\n",
       "      <td>F</td>\n",
       "      <td>2.0</td>\n",
       "      <td>44837.16</td>\n",
       "      <td>2.0</td>\n",
       "      <td>5.0</td>\n",
       "      <td>Test</td>\n",
       "    </tr>\n",
       "    <tr>\n",
       "      <th>33203</th>\n",
       "      <td>8739285</td>\n",
       "      <td>19.0</td>\n",
       "      <td>229.0</td>\n",
       "      <td>69.5</td>\n",
       "      <td>F</td>\n",
       "      <td>2.0</td>\n",
       "      <td>44994.24</td>\n",
       "      <td>1.0</td>\n",
       "      <td>4.0</td>\n",
       "      <td>Test</td>\n",
       "    </tr>\n",
       "    <tr>\n",
       "      <th>33204</th>\n",
       "      <td>7468138</td>\n",
       "      <td>18.0</td>\n",
       "      <td>222.0</td>\n",
       "      <td>61.0</td>\n",
       "      <td>F</td>\n",
       "      <td>3.0</td>\n",
       "      <td>209278.15</td>\n",
       "      <td>0.0</td>\n",
       "      <td>3.0</td>\n",
       "      <td>Test</td>\n",
       "    </tr>\n",
       "  </tbody>\n",
       "</table>\n",
       "<p>33205 rows × 10 columns</p>\n",
       "</div>"
      ],
      "text/plain": [
       "       client_id  client_tenure_year  client_tenure_month  client_age gender  \\\n",
       "0        1562045                16.0                198.0        49.0      M   \n",
       "1        5126305                12.0                145.0        33.0      F   \n",
       "2         388801                30.0                361.0        57.5      M   \n",
       "3         285619                30.0                369.0        67.5      M   \n",
       "4        8198645                15.0                189.0        54.5      F   \n",
       "...          ...                 ...                  ...         ...    ...   \n",
       "33200    1780858                21.0                262.0        68.5      M   \n",
       "33201    6967120                21.0                260.0        68.5      M   \n",
       "33202    5826160                20.0                249.0        56.5      F   \n",
       "33203    8739285                19.0                229.0        69.5      F   \n",
       "33204    7468138                18.0                222.0        61.0      F   \n",
       "\n",
       "       number_of_accounts_     balance  calls_past_6_months  \\\n",
       "0                      2.0    67454.65                  3.0   \n",
       "1                      2.0   103671.75                  0.0   \n",
       "2                      5.0   522498.72                  1.0   \n",
       "3                      2.0   299388.72                  3.0   \n",
       "4                      2.0   382303.83                  6.0   \n",
       "...                    ...         ...                  ...   \n",
       "33200                  3.0   372100.59                  6.0   \n",
       "33201                  3.0  4279873.38                  6.0   \n",
       "33202                  2.0    44837.16                  2.0   \n",
       "33203                  2.0    44994.24                  1.0   \n",
       "33204                  3.0   209278.15                  0.0   \n",
       "\n",
       "       logins_last_6_months Variation  \n",
       "0                       6.0      Test  \n",
       "1                       3.0   Control  \n",
       "2                       4.0      Test  \n",
       "3                       6.0   Control  \n",
       "4                       9.0      Test  \n",
       "...                     ...       ...  \n",
       "33200                   9.0      Test  \n",
       "33201                   9.0   Control  \n",
       "33202                   5.0      Test  \n",
       "33203                   4.0      Test  \n",
       "33204                   3.0      Test  \n",
       "\n",
       "[33205 rows x 10 columns]"
      ]
     },
     "execution_count": 46,
     "metadata": {},
     "output_type": "execute_result"
    }
   ],
   "source": [
    "#Add age_group column\n",
    "demographics_variation_merged_clean_df"
   ]
  },
  {
   "cell_type": "code",
   "execution_count": 62,
   "metadata": {},
   "outputs": [
    {
     "name": "stdout",
     "output_type": "stream",
     "text": [
      "age_group\n",
      "<18       0.003012\n",
      "18-24     2.924258\n",
      "25-34    16.054811\n",
      "35-44    17.515434\n",
      "45-54    21.168499\n",
      "55-64    23.641018\n",
      "65+      18.692968\n",
      "Name: proportion, dtype: float64\n"
     ]
    }
   ],
   "source": [
    "demographics_variation_merged_clean_age_df = demographics_variation_merged_clean_df.copy()\n",
    "\n",
    "# Then create the age_group column on that copy\n",
    "bins = [0, 17, 24, 34, 44, 54, 64, 100]\n",
    "labels = [\"<18\", \"18-24\", \"25-34\", \"35-44\", \"45-54\", \"55-64\", \"65+\"]\n",
    "\n",
    "demographics_variation_merged_clean_age_df[\"age_group\"] = pd.cut(\n",
    "    demographics_variation_merged_clean_age_df[\"client_age\"],\n",
    "    bins=bins,\n",
    "    labels=labels,\n",
    "    right=True,\n",
    "    include_lowest=True\n",
    ")\n",
    "# Calculate age group distribution\n",
    "age_group_distribution = demographics_variation_merged_clean_age_df['age_group'].value_counts(normalize=True) * 100\n",
    "\n",
    "age_group_percent = demographics_variation_merged_clean_age_df['age_group'].value_counts(normalize=True).reindex(labels) * 100\n",
    "print(age_group_percent)"
   ]
  },
  {
   "cell_type": "markdown",
   "metadata": {},
   "source": [
    "DISTRIBUTION IN EACH VARIATION GROUP BY GENDER"
   ]
  },
  {
   "cell_type": "code",
   "execution_count": 33,
   "metadata": {},
   "outputs": [
    {
     "name": "stdout",
     "output_type": "stream",
     "text": [
      "Gender distribution within each Variation group:\n",
      "gender         F      M\n",
      "Variation              \n",
      "Control    48.62  51.38\n",
      "Test       49.26  50.74\n"
     ]
    }
   ],
   "source": [
    "# Count number of users in each Variation group by gender\n",
    "gender_counts_per_variation = demographics_variation_merged_clean_df.groupby([\"Variation\", \"gender\"])[\"client_id\"].count().unstack(fill_value=0)\n",
    "\n",
    "# Calculate percentages of gender within each Variation group\n",
    "gender_distribution = gender_counts_per_variation.div(gender_counts_per_variation.sum(axis=1), axis=0) * 100\n",
    "\n",
    "# Display results\n",
    "print(\"Gender distribution within each Variation group:\")\n",
    "print(gender_distribution.round(2))"
   ]
  },
  {
   "cell_type": "markdown",
   "metadata": {},
   "source": [
    "DISTRIBUTION IN EACH VARIATION GROUP BY AGE GROUP"
   ]
  },
  {
   "cell_type": "code",
   "execution_count": 64,
   "metadata": {},
   "outputs": [
    {
     "name": "stdout",
     "output_type": "stream",
     "text": [
      "Gender distribution within each Variation group:\n",
      "age_group   <18  18-24  25-34  35-44  45-54  55-64    65+\n",
      "Variation                                                \n",
      "Control    0.01   2.86  15.73  17.35  21.07  24.01  18.97\n",
      "Test       0.00   2.98  16.34  17.66  21.25  23.32  18.45\n"
     ]
    },
    {
     "name": "stderr",
     "output_type": "stream",
     "text": [
      "/var/folders/_2/ksgd3nl52j9g0sxwpjjd1bgh0000gn/T/ipykernel_11747/459939810.py:2: FutureWarning: The default of observed=False is deprecated and will be changed to True in a future version of pandas. Pass observed=False to retain current behavior or observed=True to adopt the future default and silence this warning.\n",
      "  age_counts_per_variation = demographics_variation_merged_clean_age_df.groupby([\"Variation\", \"age_group\"])[\"client_id\"].count().unstack(fill_value=0)\n"
     ]
    }
   ],
   "source": [
    "# Count number of users in each Variation group by gender\n",
    "age_counts_per_variation = demographics_variation_merged_clean_age_df.groupby([\"Variation\", \"age_group\"])[\"client_id\"].count().unstack(fill_value=0)\n",
    "\n",
    "# Calculate percentages of gender within each Variation group\n",
    "age_distribution = age_counts_per_variation.div(age_counts_per_variation.sum(axis=1), axis=0) * 100\n",
    "\n",
    "# Display results\n",
    "print(\"Gender distribution within each Variation group:\")\n",
    "print(age_distribution.round(2))"
   ]
  },
  {
   "cell_type": "markdown",
   "metadata": {},
   "source": [
    "PARECE SER QUE SE DISTRIBUYE POR IGUAL LOS DATOS RECOGIDOS POR EDAD Y GÉNERO ENTRE LOS GRUPOS TEST Y CONTROL, CON UNA MUESTRA TAN GRANDE NO PARECE QUE HAYA NINGÚN SESGO.\n",
    "\n",
    "LOS TIEMPOS DE RECOGIDA DE DATOS ES ADECUADO YA QUE ES CAUNDO SE ESTUBO HACIENDO LA PRUEBA DEL NUEVO MODELO"
   ]
  }
 ],
 "metadata": {
  "kernelspec": {
   "display_name": "Python 3",
   "language": "python",
   "name": "python3"
  },
  "language_info": {
   "codemirror_mode": {
    "name": "ipython",
    "version": 3
   },
   "file_extension": ".py",
   "mimetype": "text/x-python",
   "name": "python",
   "nbconvert_exporter": "python",
   "pygments_lexer": "ipython3",
   "version": "3.12.9"
  }
 },
 "nbformat": 4,
 "nbformat_minor": 2
}
