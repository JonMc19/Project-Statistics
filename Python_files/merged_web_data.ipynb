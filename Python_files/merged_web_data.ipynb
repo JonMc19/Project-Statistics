{
 "cells": [
  {
   "cell_type": "markdown",
   "metadata": {},
   "source": [
    "Merge df_final_web_data_pt_1 & df_final_web_data_pt_2\n"
   ]
  },
  {
   "cell_type": "code",
   "execution_count": 1,
   "metadata": {},
   "outputs": [
    {
     "name": "stdout",
     "output_type": "stream",
     "text": [
      "Files merged into merged_web_data_pt.txt\n"
     ]
    }
   ],
   "source": [
    "file1 = 'df_final_web_data_pt_1.txt'\n",
    "file2 = 'df_final_web_data_pt_2.txt'\n",
    "merged_file = 'merged_web_data_pt.txt'\n",
    "\n",
    "# Read header from the first file\n",
    "with open(file1, 'r') as f1:\n",
    "    header = f1.readline()\n",
    "    data1 = f1.readlines()\n",
    "\n",
    "# Read second file and skip its header\n",
    "with open(file2, 'r') as f2:\n",
    "    f2.readline()  # skip header\n",
    "    data2 = f2.readlines()\n",
    "\n",
    "# Merge and write to new file\n",
    "with open(merged_file, 'w') as out:\n",
    "    out.write(header)         # write header\n",
    "    out.writelines(data1)     # write data from file1\n",
    "    out.writelines(data2)     # write data from file2\n",
    "\n",
    "print(f\"Files merged into {merged_file}\")\n"
   ]
  }
 ],
 "metadata": {
  "kernelspec": {
   "display_name": "Python 3",
   "language": "python",
   "name": "python3"
  },
  "language_info": {
   "codemirror_mode": {
    "name": "ipython",
    "version": 3
   },
   "file_extension": ".py",
   "mimetype": "text/x-python",
   "name": "python",
   "nbconvert_exporter": "python",
   "pygments_lexer": "ipython3",
   "version": "3.12.9"
  }
 },
 "nbformat": 4,
 "nbformat_minor": 2
}
