{
 "cells": [
  {
   "cell_type": "code",
   "execution_count": 1,
   "metadata": {},
   "outputs": [],
   "source": [
    "import pandas as pd"
   ]
  },
  {
   "cell_type": "code",
   "execution_count": 2,
   "metadata": {},
   "outputs": [],
   "source": [
    "unc_path_df_final_demo_cleaned= '/Users/jon/Desktop/Ironhack/Unit 4 - Statistics & Probability/Project-Statistics/Databases/cleaned/df_final_demo_cleaned.txt'\n",
    "df_final_demo_cleaned  = pd.read_csv(unc_path_df_final_demo_cleaned)"
   ]
  },
  {
   "cell_type": "markdown",
   "metadata": {},
   "source": [
    "DAY 1 & 2\n",
    "\n",
    "Answer the following questions about demographics:\n",
    "Who are the primary clients using this online process?\n",
    "Are the primary clients younger or older, new or long-standing?"
   ]
  },
  {
   "cell_type": "code",
   "execution_count": 5,
   "metadata": {},
   "outputs": [
    {
     "data": {
      "text/html": [
       "<div>\n",
       "<style scoped>\n",
       "    .dataframe tbody tr th:only-of-type {\n",
       "        vertical-align: middle;\n",
       "    }\n",
       "\n",
       "    .dataframe tbody tr th {\n",
       "        vertical-align: top;\n",
       "    }\n",
       "\n",
       "    .dataframe thead th {\n",
       "        text-align: right;\n",
       "    }\n",
       "</style>\n",
       "<table border=\"1\" class=\"dataframe\">\n",
       "  <thead>\n",
       "    <tr style=\"text-align: right;\">\n",
       "      <th></th>\n",
       "      <th>client_id</th>\n",
       "      <th>client_tenure_year</th>\n",
       "      <th>client_tenure_month</th>\n",
       "      <th>client_age</th>\n",
       "      <th>gender</th>\n",
       "      <th>number_of_accounts_</th>\n",
       "      <th>balance</th>\n",
       "      <th>calls_past_6_months</th>\n",
       "      <th>logins_last_6_months</th>\n",
       "    </tr>\n",
       "  </thead>\n",
       "  <tbody>\n",
       "    <tr>\n",
       "      <th>39346</th>\n",
       "      <td>169</td>\n",
       "      <td>21.0</td>\n",
       "      <td>262.0</td>\n",
       "      <td>47.5</td>\n",
       "      <td>M</td>\n",
       "      <td>2.0</td>\n",
       "      <td>501570.72</td>\n",
       "      <td>4.0</td>\n",
       "      <td>4.0</td>\n",
       "    </tr>\n",
       "    <tr>\n",
       "      <th>1008</th>\n",
       "      <td>647</td>\n",
       "      <td>12.0</td>\n",
       "      <td>151.0</td>\n",
       "      <td>57.5</td>\n",
       "      <td>M</td>\n",
       "      <td>2.0</td>\n",
       "      <td>30525.80</td>\n",
       "      <td>0.0</td>\n",
       "      <td>4.0</td>\n",
       "    </tr>\n",
       "    <tr>\n",
       "      <th>38492</th>\n",
       "      <td>722</td>\n",
       "      <td>11.0</td>\n",
       "      <td>143.0</td>\n",
       "      <td>59.5</td>\n",
       "      <td>F</td>\n",
       "      <td>2.0</td>\n",
       "      <td>22466.17</td>\n",
       "      <td>1.0</td>\n",
       "      <td>1.0</td>\n",
       "    </tr>\n",
       "    <tr>\n",
       "      <th>8591</th>\n",
       "      <td>934</td>\n",
       "      <td>9.0</td>\n",
       "      <td>109.0</td>\n",
       "      <td>51.0</td>\n",
       "      <td>F</td>\n",
       "      <td>2.0</td>\n",
       "      <td>32522.88</td>\n",
       "      <td>0.0</td>\n",
       "      <td>3.0</td>\n",
       "    </tr>\n",
       "    <tr>\n",
       "      <th>31267</th>\n",
       "      <td>1028</td>\n",
       "      <td>12.0</td>\n",
       "      <td>145.0</td>\n",
       "      <td>36.0</td>\n",
       "      <td>M</td>\n",
       "      <td>3.0</td>\n",
       "      <td>103520.22</td>\n",
       "      <td>1.0</td>\n",
       "      <td>4.0</td>\n",
       "    </tr>\n",
       "  </tbody>\n",
       "</table>\n",
       "</div>"
      ],
      "text/plain": [
       "       client_id  client_tenure_year  client_tenure_month  client_age gender  \\\n",
       "39346        169                21.0                262.0        47.5      M   \n",
       "1008         647                12.0                151.0        57.5      M   \n",
       "38492        722                11.0                143.0        59.5      F   \n",
       "8591         934                 9.0                109.0        51.0      F   \n",
       "31267       1028                12.0                145.0        36.0      M   \n",
       "\n",
       "       number_of_accounts_    balance  calls_past_6_months  \\\n",
       "39346                  2.0  501570.72                  4.0   \n",
       "1008                   2.0   30525.80                  0.0   \n",
       "38492                  2.0   22466.17                  1.0   \n",
       "8591                   2.0   32522.88                  0.0   \n",
       "31267                  3.0  103520.22                  1.0   \n",
       "\n",
       "       logins_last_6_months  \n",
       "39346                   4.0  \n",
       "1008                    4.0  \n",
       "38492                   1.0  \n",
       "8591                    3.0  \n",
       "31267                   4.0  "
      ]
     },
     "execution_count": 5,
     "metadata": {},
     "output_type": "execute_result"
    }
   ],
   "source": [
    "df_final_demo_cleaned_sorted=df_final_demo_cleaned.sort_values(by='client_id', ascending=True)\n",
    "df_final_demo_cleaned_sorted.head()"
   ]
  },
  {
   "cell_type": "markdown",
   "metadata": {},
   "source": [
    "Average client tenure and balance by gender"
   ]
  },
  {
   "cell_type": "code",
   "execution_count": 7,
   "metadata": {},
   "outputs": [
    {
     "name": "stdout",
     "output_type": "stream",
     "text": [
      "Average Client Tenure Year by Gender:\n",
      "  gender  client_tenure_year\n",
      "0      F           14.792790\n",
      "1      M           14.882608\n",
      "\n",
      "Average Balance by Gender:\n",
      "  gender        balance\n",
      "0      F  135565.422432\n",
      "1      M  212299.868067\n",
      "\n",
      "Combined Summary by Gender:\n",
      "  gender  avg_client_tenure_year    avg_balance\n",
      "0      F               14.792790  135565.422432\n",
      "1      M               14.882608  212299.868067\n"
     ]
    }
   ],
   "source": [
    "# Create a copy of the original DataFrame\n",
    "df_demo_analysis_gender = df_final_demo_cleaned_sorted.copy()\n",
    "\n",
    "# Average Client Tenure Year by Gender\n",
    "avg_tenure_gender = df_demo_analysis_gender.groupby('gender')['client_tenure_year'].mean().reset_index()\n",
    "\n",
    "# Average Balance by Gender\n",
    "avg_balance_gender = df_demo_analysis_gender.groupby('gender')['balance'].mean().reset_index()\n",
    "\n",
    "# Optional: Merge both into one summary table\n",
    "summary_gender = pd.merge(avg_tenure_gender, avg_balance_gender, on='gender')\n",
    "summary_gender.rename(columns={\n",
    "    'client_tenure_year': 'avg_client_tenure_year',\n",
    "    'balance': 'avg_balance'\n",
    "}, inplace=True)\n",
    "\n",
    "# Print results\n",
    "print(\"Average Client Tenure Year by Gender:\")\n",
    "print(avg_tenure_gender)\n",
    "\n",
    "print(\"\\nAverage Balance by Gender:\")\n",
    "print(avg_balance_gender)\n",
    "\n",
    "print(\"\\nCombined Summary by Gender:\")\n",
    "print(summary_gender)"
   ]
  },
  {
   "cell_type": "markdown",
   "metadata": {},
   "source": [
    "Average client tenure and balance by age"
   ]
  },
  {
   "cell_type": "code",
   "execution_count": 8,
   "metadata": {},
   "outputs": [
    {
     "name": "stdout",
     "output_type": "stream",
     "text": [
      "Average Client Tenure Year by Age Group:\n",
      "  age_group  client_tenure_year\n",
      "0      0-17           15.833333\n",
      "1     18-24           13.505108\n",
      "2     25-34           12.392793\n",
      "3     35-44           13.579901\n",
      "4     45-54           15.196001\n",
      "5     55-64           15.585968\n",
      "6       65+           17.369991\n",
      "\n",
      "Average Balance by Age Group:\n",
      "  age_group        balance\n",
      "0      0-17   41644.761771\n",
      "1     18-24   57342.272151\n",
      "2     25-34   85736.451236\n",
      "3     35-44  128720.033756\n",
      "4     45-54  180676.961986\n",
      "5     55-64  222880.889675\n",
      "6       65+  264829.956246\n",
      "\n",
      "Combined Summary by Age Group:\n",
      "  age_group  avg_client_tenure_year    avg_balance\n",
      "0      0-17               15.833333   41644.761771\n",
      "1     18-24               13.505108   57342.272151\n",
      "2     25-34               12.392793   85736.451236\n",
      "3     35-44               13.579901  128720.033756\n",
      "4     45-54               15.196001  180676.961986\n",
      "5     55-64               15.585968  222880.889675\n",
      "6       65+               17.369991  264829.956246\n"
     ]
    },
    {
     "name": "stderr",
     "output_type": "stream",
     "text": [
      "/var/folders/_2/ksgd3nl52j9g0sxwpjjd1bgh0000gn/T/ipykernel_5831/2499144706.py:12: FutureWarning: The default of observed=False is deprecated and will be changed to True in a future version of pandas. Pass observed=False to retain current behavior or observed=True to adopt the future default and silence this warning.\n",
      "  avg_tenure_age = df_demo_analysis_age.groupby('age_group')['client_tenure_year'].mean().reset_index()\n",
      "/var/folders/_2/ksgd3nl52j9g0sxwpjjd1bgh0000gn/T/ipykernel_5831/2499144706.py:15: FutureWarning: The default of observed=False is deprecated and will be changed to True in a future version of pandas. Pass observed=False to retain current behavior or observed=True to adopt the future default and silence this warning.\n",
      "  avg_balance_age = df_demo_analysis_age.groupby('age_group')['balance'].mean().reset_index()\n"
     ]
    }
   ],
   "source": [
    "# Create a copy of the original DataFrame\n",
    "df_demo_analysis_age = df_final_demo_cleaned_sorted.copy()\n",
    "\n",
    "# Define age bins and labels\n",
    "bins = [0, 17, 24, 34, 44, 54, 64, float('inf')]\n",
    "labels = ['0-17', '18-24', '25-34', '35-44', '45-54', '55-64', '65+']\n",
    "\n",
    "# Create Age Group column\n",
    "df_demo_analysis_age['age_group'] = pd.cut(df_demo_analysis_age['client_age'], bins=bins, labels=labels, right=True)\n",
    "\n",
    "# Average Client Tenure Year by Age Group\n",
    "avg_tenure_age = df_demo_analysis_age.groupby('age_group')['client_tenure_year'].mean().reset_index()\n",
    "\n",
    "# Average Balance by Age Group\n",
    "avg_balance_age = df_demo_analysis_age.groupby('age_group')['balance'].mean().reset_index()\n",
    "\n",
    "# Optional: Merge both into one summary table\n",
    "summary_age = pd.merge(avg_tenure_age, avg_balance_age, on='age_group')\n",
    "summary_age.rename(columns={\n",
    "    'client_tenure_year': 'avg_client_tenure_year',\n",
    "    'balance': 'avg_balance'\n",
    "}, inplace=True)\n",
    "\n",
    "# Print results\n",
    "print(\"Average Client Tenure Year by Age Group:\")\n",
    "print(avg_tenure_age)\n",
    "\n",
    "print(\"\\nAverage Balance by Age Group:\")\n",
    "print(avg_balance_age)\n",
    "\n",
    "print(\"\\nCombined Summary by Age Group:\")\n",
    "print(summary_age)"
   ]
  },
  {
   "cell_type": "markdown",
   "metadata": {},
   "source": [
    "Average client tenure and balance by gender and age"
   ]
  },
  {
   "cell_type": "code",
   "execution_count": 9,
   "metadata": {},
   "outputs": [
    {
     "name": "stdout",
     "output_type": "stream",
     "text": [
      "Average Client Tenure Year by Gender and Age Group:\n",
      "   gender age_group  client_tenure_year\n",
      "0       F      0-17           15.711111\n",
      "1       F     18-24           13.547980\n",
      "2       F     25-34           12.478065\n",
      "3       F     35-44           13.470588\n",
      "4       F     45-54           15.072742\n",
      "5       F     55-64           15.443277\n",
      "6       F       65+           17.209314\n",
      "7       M      0-17           15.941176\n",
      "8       M     18-24           13.470103\n",
      "9       M     25-34           12.320835\n",
      "10      M     35-44           13.681667\n",
      "11      M     45-54           15.319651\n",
      "12      M     55-64           15.734528\n",
      "13      M       65+           17.527369\n",
      "\n",
      "Average Balance by Gender and Age Group:\n",
      "   gender age_group        balance\n",
      "0       F      0-17   46038.483333\n",
      "1       F     18-24   53577.183712\n",
      "2       F     25-34   71170.416175\n",
      "3       F     35-44  108311.382542\n",
      "4       F     45-54  143608.047413\n",
      "5       F     55-64  168076.610705\n",
      "6       F       65+  183283.652414\n",
      "7       M      0-17   37767.948627\n",
      "8       M     18-24   60416.447454\n",
      "9       M     25-34   98028.055572\n",
      "10      M     35-44  147719.516195\n",
      "11      M     45-54  217863.485647\n",
      "12      M     55-64  279939.382383\n",
      "13      M       65+  344702.349635\n",
      "\n",
      "Combined Summary:\n",
      "   gender age_group  avg_client_tenure_year    avg_balance\n",
      "0       F      0-17               15.711111   46038.483333\n",
      "1       F     18-24               13.547980   53577.183712\n",
      "2       F     25-34               12.478065   71170.416175\n",
      "3       F     35-44               13.470588  108311.382542\n",
      "4       F     45-54               15.072742  143608.047413\n",
      "5       F     55-64               15.443277  168076.610705\n",
      "6       F       65+               17.209314  183283.652414\n",
      "7       M      0-17               15.941176   37767.948627\n",
      "8       M     18-24               13.470103   60416.447454\n",
      "9       M     25-34               12.320835   98028.055572\n",
      "10      M     35-44               13.681667  147719.516195\n",
      "11      M     45-54               15.319651  217863.485647\n",
      "12      M     55-64               15.734528  279939.382383\n",
      "13      M       65+               17.527369  344702.349635\n"
     ]
    },
    {
     "name": "stderr",
     "output_type": "stream",
     "text": [
      "/var/folders/_2/ksgd3nl52j9g0sxwpjjd1bgh0000gn/T/ipykernel_5831/1618474152.py:16: FutureWarning: The default of observed=False is deprecated and will be changed to True in a future version of pandas. Pass observed=False to retain current behavior or observed=True to adopt the future default and silence this warning.\n",
      "  avg_tenure = df_demo_analysis_age_gender.groupby(['gender', 'age_group'])['client_tenure_year'].mean().reset_index()\n",
      "/var/folders/_2/ksgd3nl52j9g0sxwpjjd1bgh0000gn/T/ipykernel_5831/1618474152.py:19: FutureWarning: The default of observed=False is deprecated and will be changed to True in a future version of pandas. Pass observed=False to retain current behavior or observed=True to adopt the future default and silence this warning.\n",
      "  avg_balance = df_demo_analysis_age_gender.groupby(['gender', 'age_group'])['balance'].mean().reset_index()\n"
     ]
    }
   ],
   "source": [
    "# Define age bins and labels\n",
    "bins = [0, 17, 24, 34, 44, 54, 64, float('inf')]\n",
    "labels = ['0-17', '18-24', '25-34', '35-44', '45-54', '55-64', '65+']\n",
    "\n",
    "# Make a copy of the original DataFrame\n",
    "df_demo_analysis_age_gender = df_final_demo_cleaned_sorted.copy()\n",
    "\n",
    "# Define age bins and labels\n",
    "bins = [0, 17, 24, 34, 44, 54, 64, float('inf')]\n",
    "labels = ['0-17', '18-24', '25-34', '35-44', '45-54', '55-64', '65+']\n",
    "\n",
    "# Create Age Group column\n",
    "df_demo_analysis_age_gender['age_group'] = pd.cut(df_demo_analysis_age_gender['client_age'], bins=bins, labels=labels, right=True)\n",
    "\n",
    "# Average Client Tenure Year by Gender and Age Group\n",
    "avg_tenure = df_demo_analysis_age_gender.groupby(['gender', 'age_group'])['client_tenure_year'].mean().reset_index()\n",
    "\n",
    "# Average Balance by Gender and Age Group\n",
    "avg_balance = df_demo_analysis_age_gender.groupby(['gender', 'age_group'])['balance'].mean().reset_index()\n",
    "\n",
    "# Optional: Merge both summaries into one table\n",
    "summary = pd.merge(avg_tenure, avg_balance, on=['gender', 'age_group'])\n",
    "summary.rename(columns={\n",
    "    'client_tenure_year': 'avg_client_tenure_year',\n",
    "    'balance': 'avg_balance'\n",
    "}, inplace=True)\n",
    "\n",
    "# Print results\n",
    "print(\"Average Client Tenure Year by Gender and Age Group:\")\n",
    "print(avg_tenure)\n",
    "\n",
    "print(\"\\nAverage Balance by Gender and Age Group:\")\n",
    "print(avg_balance)\n",
    "\n",
    "print(\"\\nCombined Summary:\")\n",
    "print(summary)"
   ]
  },
  {
   "cell_type": "markdown",
   "metadata": {},
   "source": [
    "AVERAGE BALANCE BY TENURE GROUPS"
   ]
  },
  {
   "cell_type": "code",
   "execution_count": 10,
   "metadata": {},
   "outputs": [
    {
     "name": "stdout",
     "output_type": "stream",
     "text": [
      "Average Balance by Tenure Group:\n",
      "  tenure_group    avg_balance\n",
      "0    0-2 years  246155.706000\n",
      "1    3-5 years  138993.621173\n",
      "2    6-9 years  133950.407723\n",
      "3    10+ years  184681.675586\n"
     ]
    },
    {
     "name": "stderr",
     "output_type": "stream",
     "text": [
      "/var/folders/_2/ksgd3nl52j9g0sxwpjjd1bgh0000gn/T/ipykernel_5831/573797904.py:12: FutureWarning: The default of observed=False is deprecated and will be changed to True in a future version of pandas. Pass observed=False to retain current behavior or observed=True to adopt the future default and silence this warning.\n",
      "  avg_balance_by_tenure_group = df_demo_analysis.groupby('tenure_group')['balance'].mean().reset_index()\n"
     ]
    }
   ],
   "source": [
    "# Copy the original DataFrame\n",
    "df_demo_analysis = df_final_demo_cleaned_sorted.copy()\n",
    "\n",
    "# Define tenure bins and labels\n",
    "tenure_bins = [0, 2, 5, 9, float('inf')]\n",
    "tenure_labels = ['0-2 years', '3-5 years', '6-9 years', '10+ years']\n",
    "\n",
    "# Create tenure group column\n",
    "df_demo_analysis['tenure_group'] = pd.cut(df_demo_analysis['client_tenure_year'], bins=tenure_bins, labels=tenure_labels, right=True)\n",
    "\n",
    "# Average balance by tenure group\n",
    "avg_balance_by_tenure_group = df_demo_analysis.groupby('tenure_group')['balance'].mean().reset_index()\n",
    "\n",
    "# Optional: Rename column for clarity\n",
    "avg_balance_by_tenure_group.rename(columns={'balance': 'avg_balance'}, inplace=True)\n",
    "\n",
    "# Print results\n",
    "print(\"Average Balance by Tenure Group:\")\n",
    "print(avg_balance_by_tenure_group)"
   ]
  },
  {
   "cell_type": "markdown",
   "metadata": {},
   "source": [
    "WRITE HERE THE DESCRIPTION OF THE DEMOGRAPHIFCS SEEN FORM THE ABOVE ANALYSIS"
   ]
  }
 ],
 "metadata": {
  "kernelspec": {
   "display_name": "Python 3",
   "language": "python",
   "name": "python3"
  },
  "language_info": {
   "codemirror_mode": {
    "name": "ipython",
    "version": 3
   },
   "file_extension": ".py",
   "mimetype": "text/x-python",
   "name": "python",
   "nbconvert_exporter": "python",
   "pygments_lexer": "ipython3",
   "version": "3.12.9"
  }
 },
 "nbformat": 4,
 "nbformat_minor": 2
}
